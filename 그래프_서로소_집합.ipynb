{
  "nbformat": 4,
  "nbformat_minor": 0,
  "metadata": {
    "colab": {
      "provenance": []
    },
    "kernelspec": {
      "name": "python3",
      "display_name": "Python 3"
    },
    "language_info": {
      "name": "python"
    }
  },
  "cells": [
    {
      "cell_type": "markdown",
      "source": [
        "# 기본적인 서로소 집합 알고리즘 소스코드"
      ],
      "metadata": {
        "id": "yyJ_eGihvWgn"
      }
    },
    {
      "cell_type": "code",
      "execution_count": 1,
      "metadata": {
        "colab": {
          "base_uri": "https://localhost:8080/"
        },
        "id": "AiAhkvbxmyk3",
        "outputId": "d712ae65-b6f8-4f5c-c647-041d6b324d45"
      },
      "outputs": [
        {
          "output_type": "stream",
          "name": "stdout",
          "text": [
            "6 4\n",
            "1 4\n",
            "2 3\n",
            "2 4\n",
            "5 6\n",
            "각 원소가 속한 집합:1 1 1 1 5 5 \n",
            "부모 테이블:1 1 2 1 5 5 "
          ]
        }
      ],
      "source": [
        "# 특정 원소가 속한 집합을 찾기\n",
        "def find_parent(parent, x):\n",
        "  # 루트 노드가 아니라면, 루트 노드를 찾을 때까지 재귀적으로 호출\n",
        "  if parent[x] != x:\n",
        "    return find_parent(parent, parent[x])\n",
        "  return x\n",
        "\n",
        "# 두 원소가 속한 집합을 합치기\n",
        "def union_parent(parent, a, b):\n",
        "  a = find_parent(parent, a)\n",
        "  b = find_parent(parent, b)\n",
        "  if a < b:\n",
        "    parent[b] = a\n",
        "  else:\n",
        "    parent[a] = b\n",
        "\n",
        "# 노드의 개수와 간선(union 연산)의 개수 입력받기\n",
        "v, e = map(int, input().split())\n",
        "parent = [0] * (v + 1)  # 부모 테이블 초기화\n",
        "\n",
        "# 부모 테이블상에서, 부모를 자기 자신으로 초기화\n",
        "for i in range(1, v+1):\n",
        "  parent[i] = i\n",
        "\n",
        "# union 연산을 각각 수행\n",
        "for i in range(e):\n",
        "  a, b = map(int, input().split())\n",
        "  union_parent(parent, a, b)\n",
        "\n",
        "# 각 원소가 속한 집합 출력\n",
        "print('각 원소가 속한 집합:', end='')\n",
        "for i in range(1, v+1):\n",
        "  print(find_parent(parent, i), end=' ')\n",
        "\n",
        "print()\n",
        "\n",
        "# 부모 테이블 내용 출력\n",
        "print('부모 테이블:', end='')\n",
        "for i in range(1, v+1):\n",
        "  print(parent[i], end=' ')"
      ]
    },
    {
      "cell_type": "markdown",
      "source": [
        "# 경로 압축 기법 소스코드"
      ],
      "metadata": {
        "id": "ywcsV_k3vbww"
      }
    },
    {
      "cell_type": "code",
      "source": [
        "def find_parent(parent, x):\n",
        "  if parent[x] != x:\n",
        "    parent[x] = find_parent(parent, parent[x])\n",
        "  return parent[x]"
      ],
      "metadata": {
        "id": "K7ONjkJlox9m"
      },
      "execution_count": null,
      "outputs": []
    },
    {
      "cell_type": "markdown",
      "source": [
        "# 개선된 서로소 집합 알고리즘 소스코드"
      ],
      "metadata": {
        "id": "_cNZpsB3vfVm"
      }
    },
    {
      "cell_type": "code",
      "source": [
        "# 특정 원소가 속한 집합을 찾기\n",
        "def find_parent(parent, x):\n",
        "  # 루트 노드가 아니라면, 루트 노드를 찾을 때까지 재귀적으로 호출\n",
        "  if parent[x] != x:\n",
        "    parent[x] = find_parent(parent, parent[x])\n",
        "  return parent[x]\n",
        "\n",
        "# 두 원소가 속한 집합을 합치기\n",
        "def union_parent(parent, a, b):\n",
        "  a = find_parent(parent, a)\n",
        "  b = find_parent(parent, b)\n",
        "  if a < b:\n",
        "    parent[b] = a\n",
        "  else:\n",
        "    parent[a] = b\n",
        "\n",
        "# 노드의 개수와 간선(union 연산)의 개수 입력받기\n",
        "v, e = map(int, input().split())\n",
        "parent = [0] * (v + 1)  # 부모 테이블 초기화\n",
        "\n",
        "# 부모 테이블상에서, 부모를 자기 자신으로 초기화\n",
        "for i in range(1, v+1):\n",
        "  parent[i] = i\n",
        "\n",
        "# union 연산을 각각 수행\n",
        "for i in range(e):\n",
        "  a, b = map(int, input().split())\n",
        "  union_parent(parent, a, b)\n",
        "\n",
        "# 각 원소가 속한 집합 출력\n",
        "print('각 원소가 속한 집합:', end='')\n",
        "for i in range(1, v+1):\n",
        "  print(find_parent(parent, i), end=' ')\n",
        "\n",
        "print()\n",
        "\n",
        "# 부모 테이블 내용 출력\n",
        "print('부모 테이블:', end='')\n",
        "for i in range(1, v+1):\n",
        "  print(parent[i], end=' ')"
      ],
      "metadata": {
        "colab": {
          "base_uri": "https://localhost:8080/"
        },
        "id": "TsUBkGn4qV4l",
        "outputId": "c8f33f73-590c-4a66-89ce-fe0172cfa92b"
      },
      "execution_count": 2,
      "outputs": [
        {
          "output_type": "stream",
          "name": "stdout",
          "text": [
            "6 4\n",
            "1 4\n",
            "2 3\n",
            "2 4\n",
            "5 6\n",
            "각 원소가 속한 집합:1 1 1 1 5 5 \n",
            "부모 테이블:1 1 1 1 5 5 "
          ]
        }
      ]
    },
    {
      "cell_type": "markdown",
      "source": [
        "# 서로소 집합을 활용한 사이클 판별 소스코드"
      ],
      "metadata": {
        "id": "m8wy-mlnvjmN"
      }
    },
    {
      "cell_type": "code",
      "source": [
        "# 특정 원소가 속한 집합을 찾기\n",
        "def find_parent(parent, x):\n",
        "  # 루트 노드가 아니라면, 루트 노드를 찾을 때까지 재귀적으로 호출\n",
        "  if parent[x] != x:\n",
        "    parent[x] = find_parent(parent, parent[x])\n",
        "  return parent[x]\n",
        "\n",
        "# 두 원소가 속한 집합을 합치기\n",
        "def union_parent(parent, a, b):\n",
        "  a = find_parent(parent, a)\n",
        "  b = find_parent(parent, b)\n",
        "  if a < b:\n",
        "    parent[b] = a\n",
        "  else:\n",
        "    parent[a] = b\n",
        "\n",
        "# 노드의 개수와 간선(union 연산)의 개수 입력받기\n",
        "v, e = map(int, input().split())\n",
        "parent = [0] * (v + 1)  # 부모 테이블 초기화\n",
        "\n",
        "# 부모 테이블상에서, 부모를 자기 자신으로 초기화\n",
        "for i in range(1, v + 1):\n",
        "  parent[i] = i\n",
        "\n",
        "cycle = False # 사이클 발생 여부\n",
        "\n",
        "for i in range(e):\n",
        "  a, b = map(int, input().split())\n",
        "  # 사이클이 발생한 경우 종료\n",
        "  if find_parent(parent, a) == find_parent(parent, b):\n",
        "    cycle = True\n",
        "    break\n",
        "  # 사이클이 발생하지 않았다면 합집합(union) 수행\n",
        "  else:\n",
        "    union_parent(parent, a, b)\n",
        "\n",
        "if cycle:\n",
        "  print(\"사이클이 발생했습니다.\")\n",
        "else:\n",
        "  print(\"사이클이 발생하지 않았습니다.\")"
      ],
      "metadata": {
        "colab": {
          "base_uri": "https://localhost:8080/"
        },
        "id": "TucyT0oYqmma",
        "outputId": "db26d455-4447-4df4-d35a-fa9cf9375c7e"
      },
      "execution_count": 3,
      "outputs": [
        {
          "output_type": "stream",
          "name": "stdout",
          "text": [
            "3 3\n",
            "1 2\n",
            "1 3\n",
            "2 3\n",
            "사이클이 발생했습니다.\n"
          ]
        }
      ]
    }
  ]
}