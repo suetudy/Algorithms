{
  "nbformat": 4,
  "nbformat_minor": 0,
  "metadata": {
    "colab": {
      "provenance": [],
      "collapsed_sections": [
        "IiKT51aKoewg",
        "f5_QlG-6oV-z",
        "pL0kBacGokWL",
        "WzcbTq15omMq"
      ]
    },
    "kernelspec": {
      "name": "python3",
      "display_name": "Python 3"
    },
    "language_info": {
      "name": "python"
    }
  },
  "cells": [
    {
      "cell_type": "markdown",
      "source": [
        "# 최단 경로 알고리즘\n",
        ": 특정 지점까지 가장 빠르게 도달하는 방법을 찾는 알고리즘\n"
      ],
      "metadata": {
        "id": "lZLjMuEioYBl"
      }
    },
    {
      "cell_type": "markdown",
      "source": [
        "## 다익스트라 알고리즘\n",
        ": 한 지점에서 다른 특정 지점까지의 최단 경로를 구해야 하는 경우\n",
        "\n",
        "- 각 단계마다 '각 노드에 대한 현재까지의 최단 거리' 정보 갱신"
      ],
      "metadata": {
        "id": "IiKT51aKoewg"
      }
    },
    {
      "cell_type": "markdown",
      "source": [
        "### 간단한 다익스트라 알고리즘"
      ],
      "metadata": {
        "id": "f5_QlG-6oV-z"
      }
    },
    {
      "cell_type": "code",
      "execution_count": 3,
      "metadata": {
        "colab": {
          "base_uri": "https://localhost:8080/"
        },
        "id": "I1AOONn1Vwfn",
        "outputId": "8d130449-a483-446e-bafe-d454c0bd0bf5"
      },
      "outputs": [
        {
          "output_type": "stream",
          "name": "stdout",
          "text": [
            "6 11\n",
            "1\n",
            "1 2 2\n",
            "1 3 5\n",
            "1 4 1\n",
            "2 3 3\n",
            "2 4 2\n",
            "3 2 3\n",
            "3 6 5\n",
            "4 3 3\n",
            "4 5 1\n",
            "5 3 1\n",
            "5 6 2\n",
            "0\n",
            "2\n",
            "3\n",
            "1\n",
            "2\n",
            "4\n"
          ]
        }
      ],
      "source": [
        "# 간단한 다익스트라 알고리즘 소스코드\n",
        "\n",
        "# import sys\n",
        "# input = sys.stdin.readline\n",
        "INF = int(1e9)  # 무한을 의미하는 값으로 10억을 설정\n",
        "\n",
        "# 노드의 개수, 간선의 개수를 입력받기\n",
        "n, m = map(int, input().split())\n",
        "# 시작 노드 번호를 입력받기\n",
        "start = int(input())\n",
        "# 각 노드에 연결되어 있는 노드에 대한 정보를 담는 리스트를 만들기\n",
        "graph = [[] for _ in range(n+1)]\n",
        "# 방문한 적이 있는지 체크하는 목적의 리스트를 만들기\n",
        "visited = [False] * (n+1)\n",
        "# 최단 거리 테이블을 모두 무한으로 초기화\n",
        "distance = [INF] * (n+1)\n",
        "\n",
        "# 모든 간선 정보를 입력받기\n",
        "for _ in range(m):\n",
        "  a, b, c = map(int, input().split())\n",
        "  # a번 노드에서 b번 노드로 가는 비용이 C라는 의미\n",
        "  graph[a].append((b, c))\n",
        "\n",
        "# 방문하지 않은 노드 중에서, 가장 최단 거리가 짧은 노드의 번호를 반환\n",
        "def get_smallest_node():\n",
        "  min_value = INF\n",
        "  index = 0 # 가장 최단 거리가 짧은 노드(인덱스)\n",
        "  for i in range(1, n+1):\n",
        "    if distance[i] < min_value and not visited[i]:\n",
        "      min_value = distance[i]\n",
        "      index = i\n",
        "  return index\n",
        "\n",
        "def dijkstra(start):\n",
        "  # 시작 노드에 대해서 초기화\n",
        "  distance[start] = 0\n",
        "  visited[start] = True\n",
        "  for j in graph[start]:\n",
        "    distance[j[0]] = j[1]\n",
        "  # 시작 노드를 제외한 전체 n-1개의 노드에 대해 반복\n",
        "  for i in range(n-1):\n",
        "    # 현재 최단 거리가 가장 짧은 노드를 꺼내서, 방문 처리\n",
        "    now = get_smallest_node()\n",
        "    visited[now] = True\n",
        "    # 현재 노드와 연결된 다른 노드를 확인\n",
        "    for j in graph[now]:\n",
        "      cost = distance[now] + j[1]\n",
        "      # 현재 노드를 거쳐서 다른 노드로 이동하는 거리가 더 짧은 경우\n",
        "      if cost < distance[j[0]]:\n",
        "        distance[j[0]] = cost\n",
        "\n",
        "# 다익스트라 알고리즘 수행\n",
        "dijkstra(start)\n",
        "\n",
        "# 모든 노드로 가기 위한 최단 거리를 출력\n",
        "for i in range(1, n+1):\n",
        "  # 도달할 수 없는 경우, 무한(INFINITY)이라고 출력\n",
        "  if distance[i] == INF:\n",
        "    print(\"INFINITY\")\n",
        "  # 도달할 수 있는 경우 거리를 출력\n",
        "  else:\n",
        "    print(distance[i])"
      ]
    },
    {
      "cell_type": "markdown",
      "source": [
        "### 개선된 다익스트라 알고리즘"
      ],
      "metadata": {
        "id": "pL0kBacGokWL"
      }
    },
    {
      "cell_type": "code",
      "source": [
        "# 개선된 다익스트라 알고리즘 소스코드\n",
        "\n",
        "import heapq\n",
        "# import sys\n",
        "# input = sys.stdin.readline\n",
        "INF = int(1e9)  # 무한을 의미하는 값으로 10억을 설정\n",
        "\n",
        "# 노드의 개수, 간선의 개수를 입력받기\n",
        "n, m = map(int, input().split())\n",
        "# 시작 노드 번호를 입력받기\n",
        "start = int(input())\n",
        "# 각 노드에 연결되어 있는 노드에 대한 정보를 담는 리스트를 만들기\n",
        "graph = [[] for i in range(n+1)]\n",
        "# 최단 거리 테이블을 모두 무한으로 초기화\n",
        "distance = [INF] * (n+1)\n",
        "\n",
        "# 모든 간선 정보를 입력받기\n",
        "for _ in range(m):\n",
        "  a, b, c = map(int, input().split())\n",
        "  # a번 노드에서 b번 노드로 가는 비용이 c라는 의미\n",
        "  graph[a].append((b, c))\n",
        "\n",
        "def dijkstra(start):\n",
        "  q = []\n",
        "  # 시작 노드로 가기 위한 최단 경로는 0으로 설정하여, 큐에 삽입\n",
        "  heapq.heappush(q, (0, start))\n",
        "  distance[start] = 0\n",
        "  while q:  # 큐가 비어있지 않다면\n",
        "    # 가장 최단 거리가 짧은 노드에 대한 정보 꺼내기\n",
        "    dist, now = heapq.heappop(q)\n",
        "    # 현재 노드가 이미 처리된 적이 있는 노드라면 무시\n",
        "    if distance[now] < dist:\n",
        "      continue\n",
        "    for i in graph[now]:\n",
        "      cost = dist + i[1]\n",
        "      # 현재 노드를 거쳐서, 다른 노드로 이동하는 거리가 더 짧은 경우\n",
        "      if cost < distance[i[0]]:\n",
        "        distance[i[0]] = cost\n",
        "        heapq.heappush(q, (cost, i[0]))\n",
        "\n",
        "# 다익스트라 알고리즘을 수행\n",
        "dijkstra(start)\n",
        "\n",
        "# 모든 노드로 가기 위한 최단 거리를 출력\n",
        "for i in range(1, n+1):\n",
        "  # 도달할 수 없는 경우, 무한(INFINITY)이라고 출력\n",
        "  if distance[i] == INF:\n",
        "    print(\"INFINITY\")\n",
        "  # 도달할 수 있는 경우 거리를 출력\n",
        "  else:\n",
        "    print(distance[i])\n"
      ],
      "metadata": {
        "colab": {
          "base_uri": "https://localhost:8080/"
        },
        "id": "Hk8CiuHAZGrt",
        "outputId": "9553352e-ad6b-45d7-f244-56b6400d5bce"
      },
      "execution_count": 4,
      "outputs": [
        {
          "output_type": "stream",
          "name": "stdout",
          "text": [
            "6 11\n",
            "1\n",
            "1 2 2\n",
            "1 3 5\n",
            "1 4 1\n",
            "2 3 3\n",
            "2 4 2\n",
            "3 2 3\n",
            "3 6 5\n",
            "4 3 3\n",
            "4 5 1\n",
            "5 3 1\n",
            "5 6 2\n",
            "0\n",
            "2\n",
            "3\n",
            "1\n",
            "2\n",
            "4\n"
          ]
        }
      ]
    },
    {
      "cell_type": "markdown",
      "source": [
        "## 플로이드 워셜 알고리즘\n",
        ": 모든 지점에서 다른 모든 지점까지의 최단 경로를 모두 구해야 하는 경우\n",
        "\n",
        "- min('A에서 B로 가는 최소 비용', 'A에서 K를 거쳐 B로 가는 비용')"
      ],
      "metadata": {
        "id": "WzcbTq15omMq"
      }
    },
    {
      "cell_type": "code",
      "source": [
        "# 플로이드 워셜 알고리즘 소스코드\n",
        "\n",
        "INF = int(1e9)  # 무한을 의미하는 값으로 10억을 설정\n",
        "\n",
        "# 노드의 개수 및 간선의 개수를 입력받기\n",
        "n = int(input())\n",
        "m = int(input())\n",
        "\n",
        "# 2차원 리스트(그래프 표현)를 만들고, 모든 값을 무한으로 초기화\n",
        "graph = [[INF] * (n+1) for _ in range(n+1)]\n",
        "\n",
        "# 자기 자신에서 자기 자신으로 가능 비용은 0으로 초기화\n",
        "for a in range(1, n+1):\n",
        "  for b in range(1, n+1):\n",
        "    if a == b:\n",
        "      graph[a][b] = 0\n",
        "\n",
        "# 각 간선에 대한 정보를 입력받아, 그 값으로 초기화\n",
        "for _ in range(m):\n",
        "  # A에서 B로 가는 비용은 C라고 설정\n",
        "  a, b, c = map(int, input().split())\n",
        "  graph[a][b] = c\n",
        "\n",
        "# 점화식에 따라 플로이드 워셜 알고리즘을 수행\n",
        "for k in range(1, n+1):\n",
        "  for a in range(1, n+1):\n",
        "    for b in range(1, n+1):\n",
        "      graph[a][b] = min(graph[a][b], graph[a][k] + graph[k][b])\n",
        "\n",
        "# 수행된 결과를 출력\n",
        "for a in range(1, n+1):\n",
        "  for b in range(1, n+1):\n",
        "    # 도달할 수 없는 경우, 무한(INFINITY)이라고 출력\n",
        "    if graph[a][b] == INF:\n",
        "      print(\"INFINITY\", end=' ')\n",
        "    # 도달할 수 있는 경우 거리를 출력\n",
        "    else:\n",
        "      print(graph[a][b], end=' ')\n",
        "  print()"
      ],
      "metadata": {
        "colab": {
          "base_uri": "https://localhost:8080/"
        },
        "id": "DXk0ocreeTuj",
        "outputId": "0cfc7886-3aa5-4697-a1bd-656d18cca38d"
      },
      "execution_count": 5,
      "outputs": [
        {
          "output_type": "stream",
          "name": "stdout",
          "text": [
            "4\n",
            "7\n",
            "1 2 4\n",
            "1 4 6\n",
            "2 1 3\n",
            "2 3 7\n",
            "3 1 5\n",
            "3 4 4\n",
            "4 3 2\n",
            "0 4 8 6 \n",
            "3 0 7 9 \n",
            "5 9 0 4 \n",
            "7 11 2 0 \n"
          ]
        }
      ]
    }
  ]
}