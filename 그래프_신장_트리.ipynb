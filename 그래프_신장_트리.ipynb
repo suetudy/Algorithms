{
  "nbformat": 4,
  "nbformat_minor": 0,
  "metadata": {
    "colab": {
      "provenance": []
    },
    "kernelspec": {
      "name": "python3",
      "display_name": "Python 3"
    },
    "language_info": {
      "name": "python"
    }
  },
  "cells": [
    {
      "cell_type": "markdown",
      "source": [
        "# 크루스칼 알고리즘 소스코드"
      ],
      "metadata": {
        "id": "Sg7MGAaJBefm"
      }
    },
    {
      "cell_type": "code",
      "execution_count": 2,
      "metadata": {
        "colab": {
          "base_uri": "https://localhost:8080/"
        },
        "id": "RJM8NJ4pBVt8",
        "outputId": "89dcad77-096d-4cb6-c597-0591d510a417"
      },
      "outputs": [
        {
          "output_type": "stream",
          "name": "stdout",
          "text": [
            "7 9\n",
            "1 2 29\n",
            "1 5 75\n",
            "2 3 35\n",
            "2 6 34\n",
            "3 4 7\n",
            "4 6 23\n",
            "4 7 13\n",
            "5 6 53\n",
            "6 7 25\n",
            "159\n"
          ]
        }
      ],
      "source": [
        "# 특정 원소가 속한 집합을 찾기\n",
        "def find_parent(parent, x):\n",
        "  # 루트 노드가 아니라면, 루트 노드를 찾을 때까지 재귀적으로 호출\n",
        "  if parent[x] != x:\n",
        "    parent[x] = find_parent(parent, parent[x])\n",
        "  return parent[x]\n",
        "\n",
        "# 두 원소가 속합 집합을 합치기\n",
        "def union_parent(parent, a, b):\n",
        "  a = find_parent(parent, a)\n",
        "  b = find_parent(parent, b)\n",
        "  if a < b:\n",
        "    parent[b] = a\n",
        "  else:\n",
        "    parent[a] = b\n",
        "\n",
        "# 노드의 개수와 간선(union 연산)의 개수 입력받기\n",
        "v, e = map(int, input().split())\n",
        "parent = [0] * (v + 1)  # 부모 테이블 초기화\n",
        "\n",
        "# 모든 간선을 담을 리스트와 최종 비용을 담을 변수\n",
        "edges = []\n",
        "result = 0\n",
        "\n",
        "# 부모 테이블상에서, 부모를 자기 자신을 초기화\n",
        "for i in range(1, v+1):\n",
        "  parent[i] = i\n",
        "\n",
        "# 모든 간선에 대한 정보를 입력받기\n",
        "for _ in range(e):\n",
        "  a, b, cost = map(int, input().split())\n",
        "  # 비용순으로 정렬하기 위해서 튜플의 첫 번째 원소를 비용으로 설정\n",
        "  edges.append((cost, a, b))\n",
        "\n",
        "# 간선을 비용순으로 정렬\n",
        "edges.sort()\n",
        "\n",
        "# 간선을 하나씩 확인하며\n",
        "for edge in edges:\n",
        "  cost, a, b = edge\n",
        "  # 사이클이 발생하지 않는 경우에만 집합에 포함\n",
        "  if find_parent(parent, a) != find_parent(parent, b):\n",
        "    union_parent(parent, a, b)\n",
        "    result += cost\n",
        "\n",
        "print(result)"
      ]
    }
  ]
}